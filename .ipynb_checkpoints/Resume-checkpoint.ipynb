{
 "cells": [
  {
   "cell_type": "code",
   "execution_count": 139,
   "metadata": {
    "collapsed": false
   },
   "outputs": [],
   "source": [
    "%matplotlib inline\n",
    "import matplotlib.pyplot as plt\n",
    "import numpy as np\n",
    "import re\n",
    "import string "
   ]
  },
  {
   "cell_type": "markdown",
   "metadata": {},
   "source": [
    "We first upload the text file into the notebook and save all of the data into the resume_text list."
   ]
  },
  {
   "cell_type": "code",
   "execution_count": 140,
   "metadata": {
    "collapsed": false
   },
   "outputs": [],
   "source": [
    "filename = \"Resume.txt\"\n",
    "resume = open(filename,'r')\n",
    "resume_text = resume.readlines()"
   ]
  },
  {
   "cell_type": "markdown",
   "metadata": {},
   "source": [
    "Before we can start counting the number of characters, we need to remove all of the punctuation and whitespace characters. We do so by using the python regular expression module, which conveniently allows us to substitute unwanted characters by using the .sub method. Having removed the unwanted characters from all of the words in the resume, we then combine them all to form a single lower case string without spaces. "
   ]
  },
  {
   "cell_type": "code",
   "execution_count": 141,
   "metadata": {
    "collapsed": true
   },
   "outputs": [],
   "source": [
    "regex = re.compile('[^0-9a-zA-Z]')\n",
    "words = []\n",
    "for word in resume_text:\n",
    "    word = regex.sub(\"\", word)\n",
    "    words.append(word)\n",
    "\n",
    "big_string = \"\".join(words)\n",
    "big_string = big_string.lower() "
   ]
  },
  {
   "cell_type": "markdown",
   "metadata": {},
   "source": [
    "Now we iterate though a list (alpha_list) with all of the characters we want to count. The string.count method gives the number of times each character in our alpha_list occurs in our big_string, which contains all of the characters in the resume. We then add the character-count pairing into the occurences dictionary. "
   ]
  },
  {
   "cell_type": "code",
   "execution_count": 146,
   "metadata": {
    "collapsed": false
   },
   "outputs": [
    {
     "data": {
      "text/plain": [
       "{'0': 26,\n",
       " '1': 26,\n",
       " '2': 28,\n",
       " '3': 8,\n",
       " '4': 8,\n",
       " '5': 3,\n",
       " '6': 5,\n",
       " '7': 2,\n",
       " '8': 5,\n",
       " '9': 1,\n",
       " 'a': 181,\n",
       " 'b': 31,\n",
       " 'c': 80,\n",
       " 'd': 78,\n",
       " 'e': 230,\n",
       " 'f': 36,\n",
       " 'g': 65,\n",
       " 'h': 44,\n",
       " 'i': 151,\n",
       " 'j': 6,\n",
       " 'k': 14,\n",
       " 'l': 86,\n",
       " 'm': 61,\n",
       " 'n': 159,\n",
       " 'o': 136,\n",
       " 'p': 49,\n",
       " 'q': 3,\n",
       " 'r': 142,\n",
       " 's': 170,\n",
       " 't': 149,\n",
       " 'u': 62,\n",
       " 'v': 33,\n",
       " 'w': 17,\n",
       " 'x': 5,\n",
       " 'y': 30,\n",
       " 'z': 6}"
      ]
     },
     "execution_count": 146,
     "metadata": {},
     "output_type": "execute_result"
    }
   ],
   "source": [
    "alpha_list = list(string.ascii_lowercase) + list(string.digits) \n",
    "occurences = {}\n",
    "for item in alpha_list:\n",
    "    count = big_string.count(item)\n",
    "    occurences.update({item:count})\n",
    "occurences"
   ]
  },
  {
   "cell_type": "markdown",
   "metadata": {},
   "source": [
    "We now have a dictionary with each character and the number of times it pops up in the resume. We can now then plot the information in bar graph using the matplotlib library.\n",
    "\n",
    "It looks like the most used character is \"e\", while the least used character is \"9\""
   ]
  },
  {
   "cell_type": "code",
   "execution_count": 145,
   "metadata": {
    "collapsed": false
   },
   "outputs": [
    {
     "data": {
      "image/png": "[encoded data removed]",
      "text/plain": [
       "<matplotlib.figure.Figure at 0x10cd26d50>"
      ]
     },
     "metadata": {},
     "output_type": "display_data"
    }
   ],
   "source": [
    "x = np.arange(len(occurences))\n",
    "plt.bar(x, occurences.values(), align='center', width=.7)\n",
    "plt.xticks(x, occurences.keys())\n",
    "ymax = max(occurences.values()) + 20\n",
    "plt.ylim(0, ymax)\n",
    "plt.title(\"Bar Chart of Character Frequency\")\n",
    "plt.rcParams['figure.figsize'] = (10, 6)\n",
    "plt.show()\n"
   ]
  }
 ],
 "metadata": {
  "kernelspec": {
   "display_name": "Python 2",
   "language": "python",
   "name": "python2"
  },
  "language_info": {
   "codemirror_mode": {
    "name": "ipython",
    "version": 2
   },
   "file_extension": ".py",
   "mimetype": "text/x-python",
   "name": "python",
   "nbconvert_exporter": "python",
   "pygments_lexer": "ipython2",
   "version": "2.7.10"
  }
 },
 "nbformat": 4,
 "nbformat_minor": 0
}
