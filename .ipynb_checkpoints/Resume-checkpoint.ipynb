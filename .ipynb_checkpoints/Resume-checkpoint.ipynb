{
 "cells": [
  {
   "cell_type": "code",
   "execution_count": 131,
   "metadata": {
    "collapsed": false
   },
   "outputs": [],
   "source": [
    "%matplotlib inline\n",
    "import matplotlib.pyplot as plt\n",
    "import numpy as np\n",
    "import re\n",
    "import string "
   ]
  },
  {
   "cell_type": "code",
   "execution_count": 109,
   "metadata": {
    "collapsed": false
   },
   "outputs": [],
   "source": [
    "filename = \"Resume.txt\"\n",
    "resume = open(filename,'r')\n",
    "resume_text = resume.readlines()\n",
    "regex = re.compile('[^0-9a-zA-Z@]')\n",
    "words = []\n",
    "for word in resume_text:\n",
    "    word = regex.sub(\"\", word)\n",
    "    words.append(word)\n",
    "\n",
    "big_string = \"\".join(words)\n",
    "big_string = big_string.lower() \n",
    "\n",
    "alpha_list = list(string.ascii_lowercase) + list(string.digits) + [\"@\"]\n",
    "\n",
    "occurences = {}\n",
    "for item in alpha_list:\n",
    "    count = big_string.count(item)\n",
    "    occurences.update({item:count})\n",
    "\n"
   ]
  },
  {
   "cell_type": "code",
   "execution_count": 132,
   "metadata": {
    "collapsed": false
   },
   "outputs": [
    {
     "data": {
      "image/png": "[encoded data removed]",
      "text/plain": [
       "<matplotlib.figure.Figure at 0x10c1fe3d0>"
      ]
     },
     "metadata": {},
     "output_type": "display_data"
    }
   ],
   "source": [
    "x = np.arange(len(occurences))\n",
    "\n",
    "\n",
    "plt.bar(x, occurences.values(), align='center', width=.7)\n",
    "plt.xticks(x, occurences.keys())\n",
    "ymax = max(occurences.values()) + 20\n",
    "plt.ylim(0, ymax)\n",
    "plt.title(\"Bar Chart of Character Frequency\")\n",
    "plt.rcParams['figure.figsize'] = (10, 6)\n",
    "plt.show()"
   ]
  },
  {
   "cell_type": "code",
   "execution_count": null,
   "metadata": {
    "collapsed": true
   },
   "outputs": [],
   "source": []
  }
 ],
 "metadata": {
  "kernelspec": {
   "display_name": "Python 2",
   "language": "python",
   "name": "python2"
  },
  "language_info": {
   "codemirror_mode": {
    "name": "ipython",
    "version": 2
   },
   "file_extension": ".py",
   "mimetype": "text/x-python",
   "name": "python",
   "nbconvert_exporter": "python",
   "pygments_lexer": "ipython2",
   "version": "2.7.10"
  }
 },
 "nbformat": 4,
 "nbformat_minor": 0
}
